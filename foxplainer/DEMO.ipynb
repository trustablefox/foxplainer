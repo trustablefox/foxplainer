{
 "cells": [
  {
   "cell_type": "markdown",
   "id": "65f96cf2",
   "metadata": {},
   "source": [
    "#### Example of returning one abductive explanation \n",
    "##### need to specify the parameter xtype=\"abd\""
   ]
  },
  {
   "cell_type": "code",
   "execution_count": 1,
   "id": "f9345b5d",
   "metadata": {},
   "outputs": [
    {
     "name": "stdout",
     "output_type": "stream",
     "text": [
      "\n",
      "Explaining the logistic regression model...\n",
      "\n"
     ]
    },
    {
     "data": {
      "application/vnd.jupyter.widget-view+json": {
       "model_id": "a5e5f16f63d74dcc96ce648c6438991d",
       "version_major": 2,
       "version_minor": 0
      },
      "text/plain": [
       "Accordion(children=(Tab(children=(HTML(value='\\n                \\n            <!DOCTYPE HTML>\\n            <ht…"
      ]
     },
     "metadata": {},
     "output_type": "display_data"
    }
   ],
   "source": [
    "from explainer import FoX\n",
    "fx = FoX(global_model_name=\"LR\", \n",
    "        xtype=\"abd\", \n",
    "        xnum=1, \n",
    "        global_model_path=\"./global_model/openstack_LR_global_model.pkl\", \n",
    "        proj_name=\"openstack\", \n",
    "        data_path=\"./dataset/\",\n",
    "        inst_id=5)\n",
    "fx.explain(in_jupyter=True)"
   ]
  },
  {
   "cell_type": "code",
   "execution_count": 10,
   "id": "8127ce88",
   "metadata": {},
   "outputs": [
    {
     "name": "stdout",
     "output_type": "stream",
     "text": [
      "\n",
      "Explaining the random forest model...\n",
      "\n"
     ]
    },
    {
     "data": {
      "application/vnd.jupyter.widget-view+json": {
       "model_id": "ede096485d4744d48d34ea6a20b124d2",
       "version_major": 2,
       "version_minor": 0
      },
      "text/plain": [
       "Accordion(children=(Tab(children=(HTML(value='\\n                \\n            <!DOCTYPE HTML>\\n            <ht…"
      ]
     },
     "metadata": {},
     "output_type": "display_data"
    }
   ],
   "source": [
    "from explainer import FoX\n",
    "fx = FoX(global_model_name=\"RF\", \n",
    "        xtype=\"abd\", \n",
    "        xnum=1, \n",
    "        global_model_path=\"./global_model/openstack_RF_30estimators_global_model.pkl\", \n",
    "        proj_name=\"openstack\", \n",
    "        data_path=\"./dataset/\",\n",
    "        inst_id=5)\n",
    "fx.explain(in_jupyter=True)"
   ]
  },
  {
   "cell_type": "markdown",
   "id": "8dad1f89",
   "metadata": {},
   "source": [
    "#### Example of returning one contrastive explanation \n",
    "##### need to specify the parameter xtype=\"con\""
   ]
  },
  {
   "cell_type": "code",
   "execution_count": 11,
   "id": "2fce52ef",
   "metadata": {},
   "outputs": [
    {
     "name": "stdout",
     "output_type": "stream",
     "text": [
      "\n",
      "Explaining the logistic regression model...\n",
      "\n"
     ]
    },
    {
     "data": {
      "application/vnd.jupyter.widget-view+json": {
       "model_id": "f58e2e30a9974263be5b12cddc59dd5b",
       "version_major": 2,
       "version_minor": 0
      },
      "text/plain": [
       "Accordion(children=(Tab(children=(HTML(value='\\n                \\n            <!DOCTYPE HTML>\\n            <ht…"
      ]
     },
     "metadata": {},
     "output_type": "display_data"
    }
   ],
   "source": [
    "from explainer import FoX\n",
    "fx = FoX(global_model_name=\"LR\", \n",
    "        xtype=\"con\", \n",
    "        xnum=1, \n",
    "        global_model_path=\"./global_model/openstack_LR_global_model.pkl\", \n",
    "        proj_name=\"openstack\", \n",
    "        data_path=\"./dataset/\",\n",
    "        inst_id=5)\n",
    "fx.explain(in_jupyter=True)"
   ]
  },
  {
   "cell_type": "code",
   "execution_count": 12,
   "id": "c8bd1ad9",
   "metadata": {},
   "outputs": [
    {
     "name": "stdout",
     "output_type": "stream",
     "text": [
      "\n",
      "Explaining the random forest model...\n",
      "\n"
     ]
    },
    {
     "data": {
      "application/vnd.jupyter.widget-view+json": {
       "model_id": "ee1aecbc5adc496687822c3f50be1312",
       "version_major": 2,
       "version_minor": 0
      },
      "text/plain": [
       "Accordion(children=(Tab(children=(HTML(value='\\n                \\n            <!DOCTYPE HTML>\\n            <ht…"
      ]
     },
     "metadata": {},
     "output_type": "display_data"
    }
   ],
   "source": [
    "from explainer import FoX\n",
    "fx = FoX(global_model_name=\"RF\", \n",
    "                    xtype=\"con\", \n",
    "                    xnum=1, \n",
    "                    global_model_path=\"./global_model/openstack_RF_30estimators_global_model.pkl\", \n",
    "                    proj_name=\"openstack\", \n",
    "                    data_path=\"./dataset/\",\n",
    "                    inst_id=5)\n",
    "fx.explain(in_jupyter=True)"
   ]
  },
  {
   "cell_type": "markdown",
   "id": "fd01340a",
   "metadata": {},
   "source": [
    "#### Example of returning all explanation (contrastive + abductive) \n",
    "##### no need to specify the parameter xtype since both explanations will be generated"
   ]
  },
  {
   "cell_type": "code",
   "execution_count": 2,
   "id": "e6c7051d",
   "metadata": {
    "scrolled": true
   },
   "outputs": [
    {
     "name": "stdout",
     "output_type": "stream",
     "text": [
      "\n",
      "Explaining the logistic regression model...\n",
      "\n"
     ]
    },
    {
     "data": {
      "application/vnd.jupyter.widget-view+json": {
       "model_id": "afbb6fb5380b4b758c298c3f33bb5186",
       "version_major": 2,
       "version_minor": 0
      },
      "text/plain": [
       "Accordion(children=(Tab(children=(HTML(value='\\n                \\n            <!DOCTYPE HTML>\\n            <ht…"
      ]
     },
     "metadata": {},
     "output_type": "display_data"
    }
   ],
   "source": [
    "from explainer import FoX\n",
    "fx = FoX(global_model_name=\"LR\", \n",
    "        xnum='all', \n",
    "        global_model_path=\"./global_model/openstack_LR_global_model.pkl\", \n",
    "        proj_name=\"openstack\", \n",
    "        data_path=\"./dataset/\",\n",
    "        inst_id=5)\n",
    "fx.explain(in_jupyter=True)"
   ]
  },
  {
   "cell_type": "code",
   "execution_count": 8,
   "id": "c6b30aa8",
   "metadata": {},
   "outputs": [
    {
     "name": "stdout",
     "output_type": "stream",
     "text": [
      "\n",
      "Explaining the random forest model...\n",
      "\n"
     ]
    },
    {
     "data": {
      "application/vnd.jupyter.widget-view+json": {
       "model_id": "94ad7211ace04e78bf3aba62a8dc81a9",
       "version_major": 2,
       "version_minor": 0
      },
      "text/plain": [
       "Accordion(children=(Tab(children=(HTML(value='\\n                \\n            <!DOCTYPE HTML>\\n            <ht…"
      ]
     },
     "metadata": {},
     "output_type": "display_data"
    }
   ],
   "source": [
    "from explainer import FoX\n",
    "fx = FoX(global_model_name=\"RF\", \n",
    "        xnum='all', \n",
    "        global_model_path=\"./global_model/openstack_RF_30estimators_global_model.pkl\", \n",
    "        proj_name=\"openstack\", \n",
    "        data_path=\"./dataset/\",\n",
    "        inst_id=5)\n",
    "fx.explain(in_jupyter=True)"
   ]
  },
  {
   "cell_type": "code",
   "execution_count": null,
   "id": "5e77ff13",
   "metadata": {},
   "outputs": [],
   "source": []
  }
 ],
 "metadata": {
  "interpreter": {
   "hash": "e21ebf74679b1c03fc37ed476b98fa5dbe815d7783106d7ca338a73b8121bac8"
  },
  "kernelspec": {
   "display_name": "Python 3.9.2 64-bit",
   "language": "python",
   "name": "python3"
  },
  "language_info": {
   "codemirror_mode": {
    "name": "ipython",
    "version": 3
   },
   "file_extension": ".py",
   "mimetype": "text/x-python",
   "name": "python",
   "nbconvert_exporter": "python",
   "pygments_lexer": "ipython3",
   "version": "3.9.2"
  }
 },
 "nbformat": 4,
 "nbformat_minor": 5
}
